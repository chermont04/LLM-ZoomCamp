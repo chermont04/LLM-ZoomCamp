{
 "cells": [
  {
   "cell_type": "code",
   "execution_count": 2,
   "id": "aba86389-837d-4051-9b2c-01b975c18e31",
   "metadata": {},
   "outputs": [],
   "source": [
    "from openai import OpenAI\n",
    "import os"
   ]
  },
  {
   "cell_type": "code",
   "execution_count": null,
   "id": "9abe3528-1bf4-4eee-8002-c9aa660391f2",
   "metadata": {},
   "outputs": [],
   "source": [
    "#client = OpenAI()"
   ]
  },
  {
   "cell_type": "code",
   "execution_count": 5,
   "id": "1fce4006-e2c7-41b0-9558-63621a76d38c",
   "metadata": {},
   "outputs": [],
   "source": [
    "response = client.chat.completions.create(\n",
    "    model='gpt-3.5-turbo',\n",
    "    messages=[{\"role\": \"user\", \"content\": \"is it too late to build IA?\"}]\n",
    ")"
   ]
  },
  {
   "cell_type": "code",
   "execution_count": 9,
   "id": "a9cc6edd-cd58-47cc-80f9-4110ea76ace3",
   "metadata": {},
   "outputs": [
    {
     "data": {
      "text/plain": [
       "\"It is never too late to build IA (Intelligent Automation) systems. As technology continues to advance, organizations are constantly looking for ways to improve efficiency, reduce costs, and enhance the customer experience. Implementing IA can help achieve these goals and stay competitive in today's fast-paced business environment. The key is to carefully plan and strategize the implementation of IA to ensure it aligns with the organization's goals and objectives.\""
      ]
     },
     "execution_count": 9,
     "metadata": {},
     "output_type": "execute_result"
    }
   ],
   "source": [
    "response.choices[0].message.content"
   ]
  },
  {
   "cell_type": "code",
   "execution_count": null,
   "id": "54ce096d-4a7a-45d9-b412-5841174cf316",
   "metadata": {},
   "outputs": [],
   "source": []
  }
 ],
 "metadata": {
  "kernelspec": {
   "display_name": "Python 3",
   "language": "python",
   "name": "python3"
  },
  "language_info": {
   "codemirror_mode": {
    "name": "ipython",
    "version": 3
   },
   "file_extension": ".py",
   "mimetype": "text/x-python",
   "name": "python",
   "nbconvert_exporter": "python",
   "pygments_lexer": "ipython3",
   "version": "3.12.1"
  }
 },
 "nbformat": 4,
 "nbformat_minor": 5
}
